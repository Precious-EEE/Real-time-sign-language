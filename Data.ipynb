{
 "cells": [
  {
   "cell_type": "code",
   "execution_count": 1,
   "id": "b60b0894",
   "metadata": {},
   "outputs": [],
   "source": [
    "import cv2\n",
    "import os\n",
    "import time\n",
    "import uuid"
   ]
  },
  {
   "cell_type": "code",
   "execution_count": 2,
   "id": "75e7ba90",
   "metadata": {},
   "outputs": [],
   "source": [
    "Images_path = '/Tensorflow/workspace/images/collectedimages'"
   ]
  },
  {
   "cell_type": "code",
   "execution_count": 4,
   "id": "d4d8ea5f",
   "metadata": {},
   "outputs": [],
   "source": [
    "labels = ['hello','thanks','yes','no','iloveyou']\n",
    "number_imgs = 15"
   ]
  },
  {
   "cell_type": "code",
   "execution_count": 12,
   "id": "7ac31e52",
   "metadata": {},
   "outputs": [
    {
     "name": "stdout",
     "output_type": "stream",
     "text": [
      "Collecting images for hello...\n",
      "Saved: Tensorflow\\workspace\\images\\collectedimages\\hello\\hello.a879208e-2756-11f0-81e8-a08869dc3245.jpg\n",
      "Saved: Tensorflow\\workspace\\images\\collectedimages\\hello\\hello.a915273e-2756-11f0-84a8-a08869dc3245.jpg\n",
      "Saved: Tensorflow\\workspace\\images\\collectedimages\\hello\\hello.a9b05231-2756-11f0-911e-a08869dc3245.jpg\n",
      "Saved: Tensorflow\\workspace\\images\\collectedimages\\hello\\hello.aa4b4d01-2756-11f0-95bd-a08869dc3245.jpg\n",
      "Saved: Tensorflow\\workspace\\images\\collectedimages\\hello\\hello.aae66645-2756-11f0-9ae5-a08869dc3245.jpg\n",
      "Saved: Tensorflow\\workspace\\images\\collectedimages\\hello\\hello.ab80c018-2756-11f0-8b56-a08869dc3245.jpg\n",
      "Saved: Tensorflow\\workspace\\images\\collectedimages\\hello\\hello.ac1bc0bb-2756-11f0-888a-a08869dc3245.jpg\n",
      "Saved: Tensorflow\\workspace\\images\\collectedimages\\hello\\hello.acb61844-2756-11f0-ad00-a08869dc3245.jpg\n",
      "Saved: Tensorflow\\workspace\\images\\collectedimages\\hello\\hello.ad50991c-2756-11f0-a2b9-a08869dc3245.jpg\n",
      "Saved: Tensorflow\\workspace\\images\\collectedimages\\hello\\hello.adeb7b69-2756-11f0-8250-a08869dc3245.jpg\n",
      "Saved: Tensorflow\\workspace\\images\\collectedimages\\hello\\hello.ae866b99-2756-11f0-a63c-a08869dc3245.jpg\n",
      "Saved: Tensorflow\\workspace\\images\\collectedimages\\hello\\hello.af21a7f9-2756-11f0-aaaf-a08869dc3245.jpg\n",
      "Saved: Tensorflow\\workspace\\images\\collectedimages\\hello\\hello.afbc5856-2756-11f0-805d-a08869dc3245.jpg\n",
      "Saved: Tensorflow\\workspace\\images\\collectedimages\\hello\\hello.b05738d8-2756-11f0-af00-a08869dc3245.jpg\n",
      "Saved: Tensorflow\\workspace\\images\\collectedimages\\hello\\hello.b0f1a164-2756-11f0-bd5e-a08869dc3245.jpg\n",
      "Collecting images for thanks...\n",
      "Saved: Tensorflow\\workspace\\images\\collectedimages\\thanks\\thanks.b9ea7911-2756-11f0-af60-a08869dc3245.jpg\n",
      "Saved: Tensorflow\\workspace\\images\\collectedimages\\thanks\\thanks.ba89dca2-2756-11f0-aece-a08869dc3245.jpg\n",
      "Saved: Tensorflow\\workspace\\images\\collectedimages\\thanks\\thanks.bb25e4e3-2756-11f0-88bf-a08869dc3245.jpg\n",
      "Saved: Tensorflow\\workspace\\images\\collectedimages\\thanks\\thanks.bbc02e34-2756-11f0-ba68-a08869dc3245.jpg\n",
      "Saved: Tensorflow\\workspace\\images\\collectedimages\\thanks\\thanks.bc5af306-2756-11f0-b0a2-a08869dc3245.jpg\n",
      "Saved: Tensorflow\\workspace\\images\\collectedimages\\thanks\\thanks.bcf596ca-2756-11f0-a3bd-a08869dc3245.jpg\n",
      "Saved: Tensorflow\\workspace\\images\\collectedimages\\thanks\\thanks.bd9038ac-2756-11f0-b10a-a08869dc3245.jpg\n",
      "Saved: Tensorflow\\workspace\\images\\collectedimages\\thanks\\thanks.be2b00ce-2756-11f0-8b51-a08869dc3245.jpg\n",
      "Saved: Tensorflow\\workspace\\images\\collectedimages\\thanks\\thanks.bec50cdb-2756-11f0-92c3-a08869dc3245.jpg\n",
      "Saved: Tensorflow\\workspace\\images\\collectedimages\\thanks\\thanks.bf5f40d7-2756-11f0-a1d8-a08869dc3245.jpg\n",
      "Saved: Tensorflow\\workspace\\images\\collectedimages\\thanks\\thanks.bffb80d5-2756-11f0-9888-a08869dc3245.jpg\n",
      "Saved: Tensorflow\\workspace\\images\\collectedimages\\thanks\\thanks.c09c7497-2756-11f0-a444-a08869dc3245.jpg\n",
      "Saved: Tensorflow\\workspace\\images\\collectedimages\\thanks\\thanks.c144c033-2756-11f0-abad-a08869dc3245.jpg\n",
      "Saved: Tensorflow\\workspace\\images\\collectedimages\\thanks\\thanks.c1e4aab5-2756-11f0-8c1b-a08869dc3245.jpg\n",
      "Saved: Tensorflow\\workspace\\images\\collectedimages\\thanks\\thanks.c2838b32-2756-11f0-abae-a08869dc3245.jpg\n",
      "Collecting images for yes...\n",
      "Saved: Tensorflow\\workspace\\images\\collectedimages\\yes\\yes.d17cd56e-2756-11f0-8866-a08869dc3245.jpg\n",
      "Saved: Tensorflow\\workspace\\images\\collectedimages\\yes\\yes.d21ccc8b-2756-11f0-8188-a08869dc3245.jpg\n",
      "Saved: Tensorflow\\workspace\\images\\collectedimages\\yes\\yes.d2b7e1c8-2756-11f0-ae5d-a08869dc3245.jpg\n",
      "Saved: Tensorflow\\workspace\\images\\collectedimages\\yes\\yes.d3528e71-2756-11f0-a9bd-a08869dc3245.jpg\n",
      "Saved: Tensorflow\\workspace\\images\\collectedimages\\yes\\yes.d3ed4807-2756-11f0-9fd8-a08869dc3245.jpg\n",
      "Saved: Tensorflow\\workspace\\images\\collectedimages\\yes\\yes.d48773df-2756-11f0-8ded-a08869dc3245.jpg\n",
      "Saved: Tensorflow\\workspace\\images\\collectedimages\\yes\\yes.d5218185-2756-11f0-be5e-a08869dc3245.jpg\n",
      "Saved: Tensorflow\\workspace\\images\\collectedimages\\yes\\yes.d5bc6805-2756-11f0-903d-a08869dc3245.jpg\n",
      "Saved: Tensorflow\\workspace\\images\\collectedimages\\yes\\yes.d656fca7-2756-11f0-ac25-a08869dc3245.jpg\n",
      "Saved: Tensorflow\\workspace\\images\\collectedimages\\yes\\yes.d6f205b3-2756-11f0-981a-a08869dc3245.jpg\n",
      "Saved: Tensorflow\\workspace\\images\\collectedimages\\yes\\yes.d78c9cc2-2756-11f0-b75e-a08869dc3245.jpg\n",
      "Saved: Tensorflow\\workspace\\images\\collectedimages\\yes\\yes.d8273cbb-2756-11f0-a22e-a08869dc3245.jpg\n",
      "Saved: Tensorflow\\workspace\\images\\collectedimages\\yes\\yes.d8c21b4d-2756-11f0-8e9b-a08869dc3245.jpg\n",
      "Saved: Tensorflow\\workspace\\images\\collectedimages\\yes\\yes.d95c6e6e-2756-11f0-bdcd-a08869dc3245.jpg\n",
      "Saved: Tensorflow\\workspace\\images\\collectedimages\\yes\\yes.d9f795b4-2756-11f0-9815-a08869dc3245.jpg\n",
      "Collecting images for no...\n",
      "Saved: Tensorflow\\workspace\\images\\collectedimages\\no\\no.e2ab9ea2-2756-11f0-918a-a08869dc3245.jpg\n",
      "Saved: Tensorflow\\workspace\\images\\collectedimages\\no\\no.e34a1b66-2756-11f0-934b-a08869dc3245.jpg\n",
      "Saved: Tensorflow\\workspace\\images\\collectedimages\\no\\no.e3e54585-2756-11f0-9425-a08869dc3245.jpg\n",
      "Saved: Tensorflow\\workspace\\images\\collectedimages\\no\\no.e47fdd6c-2756-11f0-9eeb-a08869dc3245.jpg\n",
      "Saved: Tensorflow\\workspace\\images\\collectedimages\\no\\no.e51a4575-2756-11f0-a013-a08869dc3245.jpg\n",
      "Saved: Tensorflow\\workspace\\images\\collectedimages\\no\\no.e5b51fbd-2756-11f0-9668-a08869dc3245.jpg\n",
      "Saved: Tensorflow\\workspace\\images\\collectedimages\\no\\no.e64f973c-2756-11f0-b8ad-a08869dc3245.jpg\n",
      "Saved: Tensorflow\\workspace\\images\\collectedimages\\no\\no.e6ea8ed4-2756-11f0-a000-a08869dc3245.jpg\n",
      "Saved: Tensorflow\\workspace\\images\\collectedimages\\no\\no.e78d75c5-2756-11f0-8799-a08869dc3245.jpg\n",
      "Saved: Tensorflow\\workspace\\images\\collectedimages\\no\\no.e8281647-2756-11f0-80ad-a08869dc3245.jpg\n",
      "Saved: Tensorflow\\workspace\\images\\collectedimages\\no\\no.e8c22cb8-2756-11f0-b272-a08869dc3245.jpg\n",
      "Saved: Tensorflow\\workspace\\images\\collectedimages\\no\\no.e95c863e-2756-11f0-9697-a08869dc3245.jpg\n",
      "Saved: Tensorflow\\workspace\\images\\collectedimages\\no\\no.e9f6d366-2756-11f0-9a64-a08869dc3245.jpg\n",
      "Saved: Tensorflow\\workspace\\images\\collectedimages\\no\\no.ea9100b9-2756-11f0-98c3-a08869dc3245.jpg\n",
      "Saved: Tensorflow\\workspace\\images\\collectedimages\\no\\no.eb2b9d9d-2756-11f0-9fda-a08869dc3245.jpg\n",
      "Collecting images for iloveyou...\n",
      "Saved: Tensorflow\\workspace\\images\\collectedimages\\iloveyou\\iloveyou.f3e99fd3-2756-11f0-b772-a08869dc3245.jpg\n",
      "Saved: Tensorflow\\workspace\\images\\collectedimages\\iloveyou\\iloveyou.f489564b-2756-11f0-8569-a08869dc3245.jpg\n",
      "Saved: Tensorflow\\workspace\\images\\collectedimages\\iloveyou\\iloveyou.f524bcb7-2756-11f0-b596-a08869dc3245.jpg\n",
      "Saved: Tensorflow\\workspace\\images\\collectedimages\\iloveyou\\iloveyou.f5bf65be-2756-11f0-915a-a08869dc3245.jpg\n",
      "Saved: Tensorflow\\workspace\\images\\collectedimages\\iloveyou\\iloveyou.f659cb5d-2756-11f0-80ca-a08869dc3245.jpg\n",
      "Saved: Tensorflow\\workspace\\images\\collectedimages\\iloveyou\\iloveyou.f6f4a72f-2756-11f0-902b-a08869dc3245.jpg\n",
      "Saved: Tensorflow\\workspace\\images\\collectedimages\\iloveyou\\iloveyou.f78eb93d-2756-11f0-8e3e-a08869dc3245.jpg\n",
      "Saved: Tensorflow\\workspace\\images\\collectedimages\\iloveyou\\iloveyou.f8295724-2756-11f0-8286-a08869dc3245.jpg\n",
      "Saved: Tensorflow\\workspace\\images\\collectedimages\\iloveyou\\iloveyou.f8c39351-2756-11f0-b967-a08869dc3245.jpg\n",
      "Saved: Tensorflow\\workspace\\images\\collectedimages\\iloveyou\\iloveyou.f95dca72-2756-11f0-8f4a-a08869dc3245.jpg\n",
      "Saved: Tensorflow\\workspace\\images\\collectedimages\\iloveyou\\iloveyou.f9f8dbff-2756-11f0-9250-a08869dc3245.jpg\n",
      "Saved: Tensorflow\\workspace\\images\\collectedimages\\iloveyou\\iloveyou.fa935f8b-2756-11f0-baf2-a08869dc3245.jpg\n",
      "Saved: Tensorflow\\workspace\\images\\collectedimages\\iloveyou\\iloveyou.fb2d8b20-2756-11f0-9b56-a08869dc3245.jpg\n",
      "Saved: Tensorflow\\workspace\\images\\collectedimages\\iloveyou\\iloveyou.fbc8c08a-2756-11f0-a873-a08869dc3245.jpg\n",
      "Saved: Tensorflow\\workspace\\images\\collectedimages\\iloveyou\\iloveyou.fc632d41-2756-11f0-97c3-a08869dc3245.jpg\n"
     ]
    }
   ],
   "source": [
    "Images_path = os.path.join('Tensorflow', 'workspace', 'images', 'collectedimages')\n",
    "\n",
    "for label in labels:\n",
    "    path = os.path.join(Images_path, label)\n",
    "    os.makedirs(path, exist_ok=True)\n",
    "\n",
    "    cap = cv2.VideoCapture(0)\n",
    "    print(f'Collecting images for {label}...')\n",
    "    time.sleep(2)\n",
    "\n",
    "    for imgnum in range(number_imgs):\n",
    "        ret, frame = cap.read()\n",
    "        if not ret:\n",
    "            print(\"Failed to capture image\")\n",
    "            continue\n",
    "\n",
    "        imagename = os.path.join(path, f\"{label}.{uuid.uuid1()}.jpg\")\n",
    "        cv2.imwrite(imagename, frame)\n",
    "        cv2.imshow('frame', frame)\n",
    "\n",
    "        print(f\"Saved: {imagename}\")\n",
    "        time.sleep(1)\n",
    "\n",
    "        if cv2.waitKey(1) & 0xFF == ord('q'):\n",
    "            break\n",
    "\n",
    "    cap.release()\n",
    "    cv2.destroyAllWindows()"
   ]
  },
  {
   "cell_type": "code",
   "execution_count": null,
   "id": "e1e2dc28",
   "metadata": {},
   "outputs": [],
   "source": []
  },
  {
   "cell_type": "code",
   "execution_count": null,
   "id": "84971206",
   "metadata": {},
   "outputs": [],
   "source": []
  },
  {
   "cell_type": "code",
   "execution_count": null,
   "id": "c752dc02",
   "metadata": {},
   "outputs": [],
   "source": []
  },
  {
   "cell_type": "code",
   "execution_count": null,
   "id": "6f7ec3a6",
   "metadata": {},
   "outputs": [],
   "source": []
  },
  {
   "cell_type": "code",
   "execution_count": null,
   "id": "9b46bd85",
   "metadata": {},
   "outputs": [],
   "source": []
  }
 ],
 "metadata": {
  "kernelspec": {
   "display_name": "Python 3",
   "language": "python",
   "name": "python3"
  },
  "language_info": {
   "codemirror_mode": {
    "name": "ipython",
    "version": 3
   },
   "file_extension": ".py",
   "mimetype": "text/x-python",
   "name": "python",
   "nbconvert_exporter": "python",
   "pygments_lexer": "ipython3",
   "version": "undefined.undefined.undefined"
  }
 },
 "nbformat": 4,
 "nbformat_minor": 5
}
